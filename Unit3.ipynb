{
 "cells": [
  {
   "cell_type": "markdown",
   "metadata": {},
   "source": [
    "# 3 教師あり学習\n",
    "## 3.1 1次元入力の線形回帰モデル\n",
    "### 3.1.1 データの準備"
   ]
  },
  {
   "cell_type": "code",
   "execution_count": 1,
   "metadata": {},
   "outputs": [
    {
     "name": "stdout",
     "output_type": "stream",
     "text": [
      "xs [16.524 21.244  8.727 15.325 26.788 26.889  3.768  6.217  1.544 13.224\n",
      "  0.896 13.705 19.474  8.355 20.288 17.726  0.719 16.766  7.778 12.453\n",
      "  8.506 20.794 13.214  4.706 16.339 23.409  9.191  6.659 11.639 28.092]\n",
      "\n",
      "ts [ 70.135  90.464  63.033  80.721 122.065 126.031  49.769  44.271  46.926\n",
      "  61.163  56.516  66.573  75.741  62.075  85.447  68.883  47.736  71.724\n",
      "  53.774  65.007  47.788  88.152  71.328  59.019  79.008 109.037  67.342\n",
      "  51.264  67.704 131.06 ]\n"
     ]
    }
   ],
   "source": [
    "from __future__ import annotations\n",
    "\n",
    "import numpy as np\n",
    "import matplotlib.pyplot as plt\n",
    "\n",
    "# 小数点以下の表示桁数を3桁にする (A)\n",
    "np.set_printoptions(precision=3, suppress=True)\n",
    "plt.rcParams['font.size'] = 14              # フォントサイズを設定 (B)\n",
    "plt.rcParams['figure.figsize'] = (7, 4)     # 図のサイズ指定 (C)\n",
    "\n",
    "n = 30                              # データ数\n",
    "noise = 5                           # ノイズの大きさ\n",
    "np.random.seed(3)                   # 乱数のseedを指定\n",
    "xs = np.random.rand(n) * 30         # xs(気温)を一様乱数で決める\n",
    "ts = (0.1 * xs) ** 4 + 1 * xs + 50 \\\n",
    "    + np.random.randn(n) * noise    # ts(売り上げ)を決める (D)\n",
    "x_range = (0, 30)                   # 表示用のxの範囲\n",
    "t_range = (30, 140)                 # 表示用のtの範囲\n",
    "\n",
    "print('xs', xs)\n",
    "print('')\n",
    "print('ts', ts)\n"
   ]
  },
  {
   "cell_type": "code",
   "execution_count": 2,
   "metadata": {},
   "outputs": [
    {
     "name": "stderr",
     "output_type": "stream",
     "text": [
      "No artists with labels found to put in legend.  Note that artists whose label start with an underscore are ignored when legend() is called with no argument.\n"
     ]
    },
    {
     "data": {
      "image/png": "[encoded data removed]",
      "text/plain": [
       "<Figure size 504x288 with 1 Axes>"
      ]
     },
     "metadata": {
      "needs_background": "light"
     },
     "output_type": "display_data"
    }
   ],
   "source": [
    "def plt_setting():                          # グラフの調整の関数定義 (B)\n",
    "    plt.legend()\n",
    "    plt.xlim(x_range)\n",
    "    plt.ylim(t_range)\n",
    "    plt.xlabel('x (temperature)')\n",
    "    plt.ylabel('t (sales)')\n",
    "    plt.grid(axis='both')\n",
    "\n",
    "plt.scatter(xs, ts, marker='o', s=50, color='b')\n",
    "\n",
    "plt_setting()                               # グラフの調整実行 (C)\n",
    "\n",
    "plt.show()\n",
    "\n"
   ]
  },
  {
   "cell_type": "markdown",
   "metadata": {},
   "source": [
    "### 3.1.2 予測をすることは線を引くこと\n",
    "* 線形回帰等の回帰分析では、与えられたデータ群にそうような関数（グラフ）をパラメータ調整（学習）で導き、テストデータの入力と解答データが一致するようにすることで、未知の値の予測ができる。"
   ]
  },
  {
   "cell_type": "markdown",
   "metadata": {},
   "source": [
    "### 3.1.3 線形回帰モデル（直線モデル）\n",
    "* 前章のまとめから⇒教師あり学習＝関数のグラフを描くこと\n",
    "と解釈できる。\n",
    "* ではどう２次元以上の場合どのように線を引くか。\n",
    "* 以下の直線式を考える\n",
    "  * $y = w_0 x + w_1$\n",
    "  * $w:重み(weight)$\n",
    "  * このモデルは特に「線形回帰モデル」と呼ばれる。\n",
    "* この$w$をパラメータと呼び、この値を調節（学習）することで入力$x$を受けて出力$y$を予測する.\n",
    "* ２次元以上の場合は、\n",
    "  * $y = w_0x_0 + w_1x_1 + ... + w_n-1x_n-1 + w_n$"
   ]
  },
  {
   "cell_type": "code",
   "execution_count": 3,
   "metadata": {},
   "outputs": [
    {
     "name": "stdout",
     "output_type": "stream",
     "text": [
      "50.0\n",
      "[50. 60. 70.]\n"
     ]
    },
    {
     "data": {
      "image/png": "[encoded data removed]",
      "text/plain": [
       "<Figure size 504x288 with 1 Axes>"
      ]
     },
     "metadata": {
      "needs_background": "light"
     },
     "output_type": "display_data"
    }
   ],
   "source": [
    "from numpy import ndarray, floating\n",
    "\n",
    "def liner_reg(x: float|ndarray, w0:float, w1:float) -> float | ndarray:\n",
    "    return w0 * x + w1\n",
    "\n",
    "l1 = liner_reg(10.0, 1.0, 40.0)\n",
    "l2 = liner_reg(np.array([10,20, 30]), 1.0, 40.0)\n",
    "print(l1)\n",
    "print(l2)\n",
    "\n",
    "xs_pred: ndarray = np.linspace(x_range[0], x_range[1], 100)\n",
    "ys_pred: ndarray = liner_reg(xs_pred, 1.0, 40.0) #type: ignore\n",
    "\n",
    "plt.scatter(xs, ts, label='data', marker='o', s=50, color='b')\n",
    "plt.plot(xs_pred, ys_pred, label='prediction', color='r')\n",
    "plt_setting()\n",
    "plt.show()\n"
   ]
  },
  {
   "cell_type": "markdown",
   "metadata": {},
   "source": [
    "* 上記の場合は、手入力で適当にパラメータを決定したので関数のグラフは実データと大きくそれている。"
   ]
  },
  {
   "cell_type": "markdown",
   "metadata": {},
   "source": [
    "### 3.1.4 平均二乗誤差（MSE）\n",
    "* パラメータを調整するにあたって、予測値と実測値のずれ具合（誤差）を計算する必要がある。\n",
    "* 単純に、「実測値-予測値」では誤差がマイナス（負）になるため、計算上誤差がないということになる。誤差⇒ずれの度合であるので、マイナスだと定義に反する。\n",
    "* 平均二乗誤差（MSE:mean squared error）は、予測値と実測値のずれ具合を示す１つの指標値。負の値をとらないため全データとのずれを示す指標として使える。$J$で示す。\n",
    "$$J = \\frac{1}{N}\\Sigma_{k=0}^{N-1}(t_k - y_k)^2$$\n",
    "$$t_k:目標値（実測値）,y_k:予測値$$\n"
   ]
  },
  {
   "cell_type": "code",
   "execution_count": 4,
   "metadata": {},
   "outputs": [
    {
     "name": "stdout",
     "output_type": "stream",
     "text": [
      "637.0548123550662\n"
     ]
    }
   ],
   "source": [
    "def mse_liner_reg(x: float|ndarray, t: float|ndarray, w0:float, w1:float) -> float:\n",
    "    y: float|ndarray = liner_reg(x, w0, w1)\n",
    "    mse: float = np.mean((t - y) ** 2)\n",
    "    return mse\n",
    "\n",
    "mse: float = mse_liner_reg(xs, ts, 1.0, 40.0)\n",
    "print(mse)"
   ]
  },
  {
   "cell_type": "markdown",
   "metadata": {},
   "source": [
    "### 3.1.5 勾配法\n",
    "* MSEが最小値になる重み($w_0, w_1等$)の組み合わせの近似値を見つける手法。\n",
    "* 偏微分をつかって求まる。\n",
    "* 要は、重みを更新していってより傾きの小さいくぼみを探す。\n",
    "* 学習の過程で、誤差が小さくなっていくことを示すグラフを「学習曲線と呼ぶ」"
   ]
  },
  {
   "cell_type": "markdown",
   "metadata": {},
   "source": [
    "### 3.1.6 解析解\n",
    "* 勾配法とは異なり、厳密な解（$w_0, w_1$）の組み合わせを求める手法。\n",
    "* ムーア・ペンローズの疑似逆行列を使って、$w_0, w_1$を求める。\n",
    "  * 入力データ$X = \\left[\\begin{array}{c}\n",
    "            x_0 & 1\\\\\n",
    "            x_1 & 1\\\\\n",
    "            ... & ...\\\\\n",
    "            x_{n-1} & 1\\\\\n",
    "        \\end{array}\\right] \\quad$\n",
    "  * 目標データ$t = \\left[\\begin{array}{c}\n",
    "            t_0 \\\\\n",
    "            t_1 \\\\\n",
    "            ... \\\\\n",
    "            t_n-1 \\\\\n",
    "        \\end{array}\\right] \\quad$\n",
    "  * これらを用いてパラメータ$w$は以下の式で求められる。\n",
    "  $$\n",
    "  w = (X^T * X)^{-1} * X^T * t\n",
    "  $$"
   ]
  },
  {
   "cell_type": "code",
   "execution_count": 7,
   "metadata": {},
   "outputs": [
    {
     "name": "stdout",
     "output_type": "stream",
     "text": [
      "[ 2.726 36.221]\n"
     ]
    }
   ],
   "source": [
    "X : ndarray = np.c_[xs, np.ones(len(xs))]\n",
    "w = np.linalg.inv(X.T @ X) @ X.T @ ts.reshape(-1, 1)\n",
    "w = w.reshape(-1)\n",
    "print(w)"
   ]
  },
  {
   "cell_type": "markdown",
   "metadata": {},
   "source": [
    "* 解析解の方が、計算量が少ない分勾配法よも早く終わる。\n",
    "* ただし、解が存在する線形回帰モデル等にしか使用できないたデメリットもある。"
   ]
  },
  {
   "cell_type": "markdown",
   "metadata": {},
   "source": [
    "## 3.2 1次元入力のニューラルネットワーク"
   ]
  },
  {
   "cell_type": "markdown",
   "metadata": {},
   "source": [
    "### 3.2.1 神経細胞（ニューロン）\n",
    "* ニューロン：脳の神経細胞\n",
    "* シナプス：他のニューロンとの窓口的な奴\n",
    "* 軸索：ニューロンのシナプス同士を結合するもの。糸電話の糸みたいな奴。\n",
    "* ニューロンは、他のニューロンに対しシナプスを中継して「電気信号（パルス）」を常に送ることができ、それを受け取ったニューロン内部の「膜電位」が変化する。\n",
    "* この膜電位の変化量は、シナプスの伝達強度に左右される。\n",
    "* この電気信号がある一定値を超えたとき、他のニューロンに対して電気信号が伝達される。\n",
    "* 我々生物の「学習」能力はこの電気信号による膜電位の変化の蓄積によるものだと考えられる。"
   ]
  },
  {
   "cell_type": "markdown",
   "metadata": {},
   "source": [
    "### 3.2.2 ニューロンモデル\n"
   ]
  },
  {
   "cell_type": "code",
   "execution_count": 8,
   "metadata": {},
   "outputs": [],
   "source": [
    "import numpy as np\n",
    "from numpy import ndarray, floating\n",
    "from matplotlib import pyplot as plt"
   ]
  },
  {
   "cell_type": "code",
   "execution_count": 10,
   "metadata": {},
   "outputs": [],
   "source": [
    "def setting_matplot() -> None:\n",
    "    np.set_printoptions(precision=3, suppress=True)\n",
    "    plt.rcParams['font.size'] = 14\n",
    "    plt.rcParams['figure.figsize'] = (7, 4)\n",
    "    \n",
    "    \n",
    "    \n",
    "n:int = 30 #データ数\n",
    "noise:float = 5.0 #ノイズの大きさ\n",
    "\n",
    "np.random.seed(3) #乱数のseedを指定\n",
    "xs = np.random.rand(n) * 30 #xs(気温)を一様乱数で決める\n",
    "ts = (0.1 * xs) ** 4 + 1 * xs + 50 + np.random.randn(n) * noise #ts(売り上げ)を決める (D)\n",
    "\n",
    "x_range = (0, 30) #表示用のxの範囲\n",
    "t_range = (30, 140) #表示用のtの範囲"
   ]
  },
  {
   "cell_type": "markdown",
   "metadata": {},
   "source": [
    "* 今、$D+1個$入力$X$を$X = [ x_0, x_1, ..., x_{D-1}, x_D ]^T$として、$x_D$は常に1を入力する「ダミーデータ」を考える。\n",
    "* 各入力$x_k$に重み$w_k$をかけたものの総和を$u$としたとき、１つのニューロンに入る総和$u$は以下の式で示される。\n",
    "$$u = w_0x_0 + .... + w_dx_d + ... + w_{D-1}x_{D-1} + w_{D}x_{D} $$\n",
    "\n",
    "* この総和$u$が「活性化関数」と呼ばれる関数に入力され、その出力値を$y$とする。\n",
    "  * シグモイド関数やReLu関数がある。\n",
    "  * 特性に応じて使い分ける。\n",
    "  * 活性化関数がないと、ニューラルネットワークは線形回帰のような単純な構造の関数しかもてないため、より複雑な関数で表現することが望まれるニューラルネットワークには必要不可欠である。"
   ]
  },
  {
   "cell_type": "markdown",
   "metadata": {},
   "source": [
    "* シグモイド関数$\\sigma(u)$\n",
    "$$\\sigma(u) = \\frac{1}{1 + \\exp(-x)}$$"
   ]
  },
  {
   "cell_type": "code",
   "execution_count": 11,
   "metadata": {},
   "outputs": [
    {
     "data": {
      "image/png": "[encoded data removed]",
      "text/plain": [
       "<Figure size 504x288 with 1 Axes>"
      ]
     },
     "metadata": {
      "needs_background": "light"
     },
     "output_type": "display_data"
    }
   ],
   "source": [
    "def sigmoid_function(x:float | ndarray) -> float | ndarray:\n",
    "    return 1 / (1 + np.exp(-x))\n",
    "\n",
    "\n",
    "\n",
    "upper: int = 8\n",
    "lower: int = -8\n",
    "xx: ndarray = np.linspace(upper, lower)\n",
    "yy = sigmoid_function(xx)\n",
    "\n",
    "plt.plot(xx, yy)\n",
    "plt.yticks(ticks=[0.0, 0.25, 0.50, 0.75, 1.0])\n",
    "plt.ylabel('σ')\n",
    "plt.grid()\n",
    "\n",
    "plt.show()"
   ]
  },
  {
   "cell_type": "markdown",
   "metadata": {},
   "source": [
    "* 上記のグラフの通り、シグモイド関数は入力値にかかわらず出力値は0~1の範囲に収まる。\n",
    "  * 確率として使えるよね？って感じ。"
   ]
  },
  {
   "cell_type": "markdown",
   "metadata": {},
   "source": [
    "* 次の入力$X = [x_0, x_1]^T$を考える。\n",
    "* この時、入力値の総和$u = w_0x_0 + w_1$\n",
    "  * $x_1 = 1のダミー$\n",
    "\n",
    "この入力をシグモイド関数に入れ、描画することを考える。\n",
    "* $\\sigma(u) = \\sigma(u = w_0x_0 + w_1)$"
   ]
  },
  {
   "cell_type": "code",
   "execution_count": 15,
   "metadata": {},
   "outputs": [
    {
     "data": {
      "image/png": "[encoded data removed]",
      "text/plain": [
       "<Figure size 504x288 with 1 Axes>"
      ]
     },
     "metadata": {
      "needs_background": "light"
     },
     "output_type": "display_data"
    },
    {
     "data": {
      "image/png": "[encoded data removed]",
      "text/plain": [
       "<Figure size 504x288 with 1 Axes>"
      ]
     },
     "metadata": {
      "needs_background": "light"
     },
     "output_type": "display_data"
    }
   ],
   "source": [
    "w0: int = 2\n",
    "w1: int = -4\n",
    "\n",
    "x: ndarray = np.linspace(-8, 8)\n",
    "u: ndarray = w0 * x + w1\n",
    "y = sigmoid_function(u)\n",
    "\n",
    "plt.plot(x, u, label='u', color=\"red\")\n",
    "plt.legend()\n",
    "plt.ylabel('u')\n",
    "plt.grid()\n",
    "plt.show()\n",
    "\n",
    "\n",
    "plt.plot(x, y, label='y', color=\"blue\")\n",
    "plt.legend()\n",
    "plt.ylabel('sigmoid')\n",
    "plt.grid()\n",
    "plt.show()"
   ]
  },
  {
   "cell_type": "markdown",
   "metadata": {},
   "source": [
    "### 3.2.3 ニューラルネットワークモデル\n",
    "\n",
    "* ニューロンモデルを複数組合わせたもの。\n",
    "* 単一のニューロンモデル（単純パーセプトロン）よりも複雑なモデルを構築することができる。\n",
    "* なおここからは、TensorFlowの命名規則に従い、ニューロンモデル＝ユニットと表記する。\n",
    "  * $w_{行き先ユニット番号, 入力ID}$"
   ]
  },
  {
   "cell_type": "markdown",
   "metadata": {},
   "source": [
    "* ニューラルネットワークモデルは以下3層のユニットの集合体をもつ。\n",
    "  * 入力層（input layer）\n",
    "  * 中間層（hidden layer）\n",
    "  * 出力層（output layer）\n",
    "* 本教科書では、入力層を引いた中間層と出力層の「（層数）ネットワークモデル」とする。 "
   ]
  },
  {
   "cell_type": "markdown",
   "metadata": {},
   "source": [
    "* 今、入力ユニット2、中間層のユニット数が2のネットワークモデルを考える。\n",
    "  * ユニット0\n",
    "  * ユニット1\n",
    "\n",
    "* これらの中間層が受け取る入力は次のとおり。$※x_1 = 1のダミー$\n",
    "  * ユニット0: $w_{0, 0}x_0 と w_{0, 1}x_1$\n",
    "  * ユニット1: $w_{1, 0}x_0 と w_{1,1}x_1$\n",
    "* ここから、各中間層のユニットの出力値を活性化関数をシグモイド関数として、$z_0, z_1$とする。\n",
    "  * $z_0 = \\sigma(w_{0, 0}x_0+w_{0, 1}x_1)$\n",
    "  * $z_1 = \\sigma(w_{1, 0}x_0+w_{1, 1}x_1)$\n",
    "\n",
    "* $z_0, z_1$を受け取る、"
   ]
  }
 ],
 "metadata": {
  "interpreter": {
   "hash": "c54be7e2b8df7de06db3ffce135dfe2eadd2e108fa02a8e51068c084f750a529"
  },
  "kernelspec": {
   "display_name": "Python 3.9.6 ('.venv': venv)",
   "language": "python",
   "name": "python3"
  },
  "language_info": {
   "codemirror_mode": {
    "name": "ipython",
    "version": 3
   },
   "file_extension": ".py",
   "mimetype": "text/x-python",
   "name": "python",
   "nbconvert_exporter": "python",
   "pygments_lexer": "ipython3",
   "version": "3.9.6"
  },
  "orig_nbformat": 4
 },
 "nbformat": 4,
 "nbformat_minor": 2
}
