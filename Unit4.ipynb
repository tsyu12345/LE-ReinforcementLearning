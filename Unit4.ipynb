{
 "cells": [
  {
   "cell_type": "markdown",
   "metadata": {},
   "source": [
    "# 4 強化学習の問題設定"
   ]
  },
  {
   "cell_type": "markdown",
   "metadata": {},
   "source": [
    "## 4.2 環境\n",
    "### 復習：環境とエージェント\n",
    "* エージェント：「行動」を決める役割を担うもの\n",
    "* 環境：「観測」と、エージェントの行動に対して「報酬」を与える役割を担うもの\n",
    "  * 行動：「前に進む」や「餌を食べる」など\n",
    "  * 観測：環境の状態\n",
    "  * 報酬：エージェントが行動を選択した時に得られる報酬\n"
   ]
  }
 ],
 "metadata": {
  "interpreter": {
   "hash": "a6fe05c605e68d4666e242ce1606491e0d260a8af7e396394fdecc31449fdcd6"
  },
  "kernelspec": {
   "display_name": "Python 3.9.6 ('.venv': venv)",
   "language": "python",
   "name": "python3"
  },
  "language_info": {
   "name": "python",
   "version": "3.9.6"
  },
  "orig_nbformat": 4
 },
 "nbformat": 4,
 "nbformat_minor": 2
}
